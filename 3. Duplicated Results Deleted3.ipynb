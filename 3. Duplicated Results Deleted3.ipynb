{
 "cells": [
  {
   "cell_type": "code",
   "execution_count": 1,
   "metadata": {
    "scrolled": true
   },
   "outputs": [
    {
     "name": "stdout",
     "output_type": "stream",
     "text": [
      "[['Central and Western District'], ['香港海事博物館', 'mobility', 'mobility', 'mobility', 'mobility', 'locked facility'], ['海富中心', 'mobility'], ['香港醫學博物館', 'mobility'], ['香港大學美術博物館'], ['文武廟'], ['利源東街', 'mobility'], ['利源西街', 'mobility'], ['砵甸乍街'], ['港島香格里拉酒店', 'mobility', 'mobility', 'mobility', 'mobility', 'mobility'], ['太平山獅子亭'], ['聖母無原罪主教座堂'], ['西港城'], ['上環文娛中心'], ['上環文娛中心'], ['臨時市場'], ['山頂', 'mobility', 'mobility (parking)'], ['海富中心', 'mobility', 'mobility', 'mobility', 'hearing', 'visual', 'mobility'], ['歷山大廈', 'mobility', 'mobility', 'hearing', 'visual', 'mobility'], ['國際金融中心商場', 'mobility', 'mobility', 'mobility', 'mobility (parking)'], ['置地廣場', 'mobility'], ['宏基國際賓館', 'mobility', 'mobility', 'hearing'], ['萬宜大廈', 'mobility', 'mobility', 'mobility', 'mobility', 'hearing', 'mobility'], ['太古廣場', 'mobility', 'mobility', 'mobility', 'hearing', 'mobility', 'mobility'], ['藥材街', 'mobility'], ['中環麗栢酒店', 'mobility', 'mobility', 'hearing', 'mobility', 'mobility'], ['古董街', 'mobility'], ['山頂廣場', 'mobility'], ['西港城', 'mobility', 'mobility', 'mobility'], ['凌霄閣', 'mobility', 'mobility', 'mobility', 'mobility', 'hearing', 'visual', 'mobility'], ['太子大廈', 'mobility'], ['金鐘廊', 'mobility', 'mobility'], ['信德中心', 'mobility', 'mobility'], ['統一中心', 'mobility'], ['香港大會堂', 'mobility', 'mobility', 'mobility', 'mobility', 'hearing', 'visual', 'mobility'], ['海味街', 'mobility', 'mobility (parking)'], ['聖約翰座堂', 'mobility', 'mobility', 'mobility', 'mobility (parking)'], ['四季酒店', 'mobility', 'mobility', 'hearing', 'visual', 'mobility', 'hearing', 'mobility', 'mobility', 'mobility'], ['仁民飯店', 'mobility', 'mobility', 'hearing', 'visual', 'mobility', 'hearing', 'mobility', 'mobility', 'mobility'], ['蘭桂坊酒店', 'mobility', 'mobility', 'visual', 'mobility', 'hearing', 'mobility', 'mobility'], ['香港文華東方酒店', 'mobility', 'mobility', 'mobility'], ['孫中山紀念館', 'mobility', 'mobility', 'mobility', 'mobility', 'hearing', 'visual', 'mobility'], ['香港華美達酒店', 'mobility', 'mobility', 'hearing', 'visual', 'mobility', 'hearing', 'mobility', 'mobility', 'mobility'], ['茶具文物館', 'mobility', 'hearing', 'mobility']]\n"
     ]
    }
   ],
   "source": [
    "with open('Central and Western District.txt','r', encoding=\"utf-8\", errors='ignore') as file:\n",
    "    CentralWestern = file.read()\n",
    "\n",
    "CentralWestern = CentralWestern.split(\"\\n\\n\")\n",
    "CentralWestern = [lines.split('\\n') for lines in CentralWestern]\n",
    "\n",
    "print(CentralWestern)"
   ]
  },
  {
   "cell_type": "code",
   "execution_count": 2,
   "metadata": {},
   "outputs": [
    {
     "name": "stdout",
     "output_type": "stream",
     "text": [
      "[['Central and Western District'], ['Image of 香港海事博物館', 'mobility impaired', 'locked facility'], ['Image of 海富中心', 'mobility impaired'], ['Image of 香港醫學博物館', 'mobility impaired'], ['Image of 香港大學美術博物館', 'NOT for mobility impaired'], ['Image of 文武廟', 'NOT for mobility impaired'], ['Image of 利源東街', 'mobility impaired'], ['Image of 利源西街', 'mobility impaired'], ['Image of 砵甸乍街'], ['Image of 港島香格里拉酒店', 'mobility impaired'], ['Image of 太平山獅子亭'], ['Image of 聖母無原罪主教座堂'], ['Image of 西港城'], ['Image of 上環文娛中心'], ['Image of 上環文娛中心'], ['Image of 臨時市場'], ['Image of 山頂', 'mobility impaired', 'mobility impaired (parking)'], ['Image of 海富中心', 'mobility impaired', 'hearing impaired', 'visual impaired'], ['Image of 歷山大廈', 'NOT for mobility impaired', 'mobility impaired', 'hearing impaired', 'visual impaired'], ['Image of 國際金融中心商場', 'mobility impaired', 'mobility impaired (parking)'], ['Image of 置地廣場', 'mobility impaired'], ['Image of 宏基國際賓館', 'mobility impaired', 'hearing impaired'], ['Image of 萬宜大廈', 'mobility impaired', 'hearing impaired', 'x'], ['Image of 太古廣場', 'mobility impaired', 'hearing impaired'], ['Image of 藥材街', 'mobility impaired'], ['Image of 中環麗栢酒店', 'mobility impaired', 'hearing impaired'], ['Image of 古董街', 'mobility impaired', 'NOT for mobility impaired', 'x'], ['Image of 山頂廣場', 'mobility impaired'], ['Image of 西港城', 'mobility impaired', 'NOT for mobility impaired'], ['Image of 凌霄閣', 'mobility impaired', 'hearing impaired', 'visual impaired'], ['Image of 太子大廈', 'mobility impaired'], ['Image of 金鐘廊', 'mobility impaired', 'NOT for mobility impaired'], ['Image of 信德中心', 'mobility impaired'], ['Image of 統一中心', 'mobility impaired'], ['Image of 香港大會堂', 'mobility impaired', 'NOT for mobility impaired', 'hearing impaired', 'visual impaired', 'x'], ['Image of 海味街', 'mobility impaired', 'mobility impaired (parking)'], ['Image of 聖約翰座堂', 'mobility impaired', 'NOT for mobility impaired', 'mobility impaired (parking)'], ['Image of 四季酒店', 'mobility impaired', 'hearing impaired', 'visual impaired'], ['Image of 仁民飯店', 'mobility impaired', 'hearing impaired', 'visual impaired', 'x'], ['Image of 蘭桂坊酒店', 'mobility impaired', 'visual impaired', 'hearing impaired'], ['Image of 香港文華東方酒店', 'mobility impaired', 'x'], ['Image of 孫中山紀念館', 'mobility impaired', 'hearing impaired', 'visual impaired'], ['Image of 香港華美達酒店', 'mobility impaired', 'hearing impaired', 'visual impaired'], ['Image of 茶具文物館', 'mobility impaired', 'hearing impaired']]\n"
     ]
    }
   ],
   "source": [
    "CentralWesternS = [['Central and Western District'], ['Image of 香港海事博物館', 'mobility impaired', 'mobility impaired', 'mobility impaired', 'mobility impaired', 'locked facility'], ['Image of 海富中心', 'mobility impaired'], ['Image of 香港醫學博物館', 'mobility impaired'], ['Image of 香港大學美術博物館', 'NOT for mobility impaired'], ['Image of 文武廟', 'NOT for mobility impaired', 'NOT for mobility impaired', 'NOT for mobility impaired'], ['Image of 利源東街', 'mobility impaired'], ['Image of 利源西街', 'mobility impaired'], ['Image of 砵甸乍街'], ['Image of 港島香格里拉酒店', 'mobility impaired', 'mobility impaired', 'mobility impaired', 'mobility impaired', 'mobility impaired'], ['Image of 太平山獅子亭'], ['Image of 聖母無原罪主教座堂'], ['Image of 西港城'], ['Image of 上環文娛中心'], ['Image of 上環文娛中心'], ['Image of 臨時市場'], ['Image of 山頂', 'mobility impaired', 'mobility impaired (parking)'], ['Image of 海富中心', 'mobility impaired', 'mobility impaired', 'mobility impaired', 'hearing impaired', 'visual impaired', 'mobility impaired'], ['Image of 歷山大廈', 'NOT for mobility impaired', 'mobility impaired', 'mobility impaired', 'hearing impaired', 'visual impaired', 'mobility impaired'], ['Image of 國際金融中心商場', 'mobility impaired', 'mobility impaired', 'mobility impaired', 'mobility impaired (parking)'], ['Image of 置地廣場', 'mobility impaired'], ['Image of 宏基國際賓館', 'mobility impaired', 'mobility impaired', 'hearing impaired'], ['Image of 萬宜大廈', 'mobility impaired', 'mobility impaired', 'mobility impaired', 'mobility impaired', 'hearing impaired', 'mobility impaired', 'x'], ['Image of 太古廣場', 'mobility impaired', 'mobility impaired', 'mobility impaired', 'hearing impaired', 'mobility impaired', 'mobility impaired'], ['Image of 藥材街', 'mobility impaired'], ['Image of 中環麗栢酒店', 'mobility impaired', 'mobility impaired', 'hearing impaired', 'mobility impaired', 'mobility impaired'], ['Image of 古董街', 'mobility impaired', 'NOT for mobility impaired', 'x'], ['Image of 山頂廣場', 'mobility impaired'], ['Image of 西港城', 'mobility impaired', 'mobility impaired', 'NOT for mobility impaired', 'mobility impaired'], ['Image of 凌霄閣', 'mobility impaired', 'mobility impaired', 'mobility impaired', 'mobility impaired', 'hearing impaired', 'visual impaired', 'mobility impaired'], ['Image of 太子大廈', 'mobility impaired'], ['Image of 金鐘廊', 'mobility impaired', 'mobility impaired', 'NOT for mobility impaired'], ['Image of 信德中心', 'mobility impaired', 'mobility impaired'], ['Image of 統一中心', 'mobility impaired'], ['Image of 香港大會堂', 'mobility impaired', 'mobility impaired', 'mobility impaired', 'mobility impaired', 'NOT for mobility impaired', 'hearing impaired', 'visual impaired', 'NOT for mobility impaired', 'mobility impaired', 'NOT for mobility impaired', 'x'], ['Image of 海味街', 'mobility impaired', 'mobility impaired (parking)'], ['Image of 聖約翰座堂', 'mobility impaired', 'mobility impaired', 'mobility impaired', 'NOT for mobility impaired', 'mobility impaired (parking)'], ['Image of 四季酒店', 'mobility impaired', 'mobility impaired', 'hearing impaired', 'visual impaired', 'mobility impaired', 'hearing impaired', 'mobility impaired', 'mobility impaired', 'mobility impaired'], ['Image of 仁民飯店', 'mobility impaired', 'mobility impaired', 'hearing impaired', 'visual impaired', 'mobility impaired', 'hearing impaired', 'mobility impaired', 'mobility impaired', 'mobility impaired', 'x'], ['Image of 蘭桂坊酒店', 'mobility impaired', 'mobility impaired', 'visual impaired', 'mobility impaired', 'hearing impaired', 'mobility impaired', 'mobility impaired'], ['Image of 香港文華東方酒店', 'mobility impaired', 'mobility impaired', 'mobility impaired', 'x'], ['Image of 孫中山紀念館', 'mobility impaired', 'mobility impaired', 'mobility impaired', 'mobility impaired', 'hearing impaired', 'visual impaired', 'mobility impaired'], ['Image of 香港華美達酒店', 'mobility impaired', 'mobility impaired', 'hearing impaired', 'visual impaired', 'mobility impaired', 'hearing impaired', 'mobility impaired', 'mobility impaired', 'mobility impaired'], ['Image of 茶具文物館', 'mobility impaired', 'hearing impaired', 'mobility impaired']]\n",
    "CentralWesternS = [sorted(set(a), key=a.index) for a in CentralWesternS]\n",
    "print(CentralWesternS)"
   ]
  },
  {
   "cell_type": "code",
   "execution_count": null,
   "metadata": {},
   "outputs": [],
   "source": []
  },
  {
   "cell_type": "code",
   "execution_count": 3,
   "metadata": {},
   "outputs": [
    {
     "name": "stdout",
     "output_type": "stream",
     "text": [
      "[['Central and Western District'], ['香港海事博物館', 'mobility', 'locked facility'], ['海富中心', 'mobility'], ['香港醫學博物館', 'mobility'], ['香港大學美術博物館'], ['文武廟'], ['利源東街', 'mobility'], ['利源西街', 'mobility'], ['砵甸乍街'], ['港島香格里拉酒店', 'mobility'], ['太平山獅子亭'], ['聖母無原罪主教座堂'], ['西港城'], ['上環文娛中心'], ['上環文娛中心'], ['臨時市場'], ['山頂', 'mobility', 'mobility (parking)'], ['海富中心', 'mobility', 'hearing', 'visual'], ['歷山大廈', 'mobility', 'hearing', 'visual'], ['國際金融中心商場', 'mobility', 'mobility (parking)'], ['置地廣場', 'mobility'], ['宏基國際賓館', 'mobility', 'hearing'], ['萬宜大廈', 'mobility', 'hearing'], ['太古廣場', 'mobility', 'hearing'], ['藥材街', 'mobility'], ['中環麗栢酒店', 'mobility', 'hearing'], ['古董街', 'mobility'], ['山頂廣場', 'mobility'], ['西港城', 'mobility'], ['凌霄閣', 'mobility', 'hearing', 'visual'], ['太子大廈', 'mobility'], ['金鐘廊', 'mobility'], ['信德中心', 'mobility'], ['統一中心', 'mobility'], ['香港大會堂', 'mobility', 'hearing', 'visual'], ['海味街', 'mobility', 'mobility (parking)'], ['聖約翰座堂', 'mobility', 'mobility (parking)'], ['四季酒店', 'mobility', 'hearing', 'visual'], ['仁民飯店', 'mobility', 'hearing', 'visual'], ['蘭桂坊酒店', 'mobility', 'visual', 'hearing'], ['香港文華東方酒店', 'mobility'], ['孫中山紀念館', 'mobility', 'hearing', 'visual'], ['香港華美達酒店', 'mobility', 'hearing', 'visual'], ['茶具文物館', 'mobility', 'hearing']]\n"
     ]
    }
   ],
   "source": [
    "with open('Central and Western District.txt','r', encoding=\"utf-8\", errors='ignore') as file:\n",
    "    CentralWestern = file.read()\n",
    "\n",
    "CentralWestern = CentralWestern.split(\"\\n\\n\")\n",
    "CentralWestern = [lines.split('\\n') for lines in CentralWestern]\n",
    "CentralWestern = [sorted(set(a), key=a.index) for a in CentralWestern]\n",
    "print(CentralWestern)"
   ]
  },
  {
   "cell_type": "code",
   "execution_count": 4,
   "metadata": {},
   "outputs": [
    {
     "name": "stdout",
     "output_type": "stream",
     "text": [
      "[['Eastern District'], ['香港海防博物館', 'mobility', 'visual'], ['太古城中心', 'mobility', 'hearing', 'visual', 'mobility (parking)'], ['羅屋民俗館'], ['(天后)天后廟', 'mobility'], ['北角海逸酒店', 'mobility', 'hearing', 'visual'], ['銅鑼灣海景酒店', 'mobility'], ['西灣河文娛中心'], ['太古城中心第1、2期鰂魚涌太古城道18號', 'mobility', 'mobility (parking)'], ['杏花新城', 'mobility', 'hearing', 'visual', 'mobility (parking)'], ['銅鑼灣皇悅酒店', 'mobility', 'visual'], ['港島海逸君綽酒店', 'mobility'], ['維景酒店', 'mobility', 'hearing', 'visual'], ['葛亮洪號滅火輪展覽館', 'mobility', 'mobility (parking)'], ['香港電影資料館', 'mobility', 'hearing', 'visual', 'mobility (parking)']]\n"
     ]
    }
   ],
   "source": [
    "with open('Eastern District.txt','r', encoding=\"utf-8\", errors='ignore') as file:\n",
    "    CentralWestern = file.read()\n",
    "\n",
    "CentralWestern = CentralWestern.split(\"\\n\\n\")\n",
    "CentralWestern = [lines.split('\\n') for lines in CentralWestern]\n",
    "CentralWestern = [sorted(set(a), key=a.index) for a in CentralWestern]\n",
    "print(CentralWestern)"
   ]
  },
  {
   "cell_type": "code",
   "execution_count": 5,
   "metadata": {},
   "outputs": [
    {
     "name": "stdout",
     "output_type": "stream",
     "text": [
      "[['Islands District'], ['翔天廊', 'mobility', 'hearing', 'visual', 'mobility (parking)'], ['迪士尼好萊塢酒店', 'hearing', 'visual', 'mobility', 'mobility (parking)'], ['東薈城名店倉', 'mobility', 'hearing', 'visual', 'mobility (parking)'], ['翔天廊', 'mobility', 'hearing', 'visual', 'mobility (parking)'], ['天際萬豪酒店', 'mobility', 'hearing', 'visual'], ['諾富特東薈城酒店', 'mobility', 'hearing', 'visual'], ['長洲', 'mobility'], ['天壇大佛', 'mobility'], ['大澳漁村', 'mobility'], ['南丫島', 'mobility'], ['昂坪360'], ['寶蓮禪寺'], ['寶蓮禪寺', 'mobility'], ['香港迪士尼樂園酒店'], ['香港迪士尼樂園', 'mobility', 'hearing', 'visual'], ['亞洲國際博覽館', 'mobility', 'visual', 'hearing', 'mobility (parking)'], ['昂坪市集', 'mobility', 'mobility (parking)'], ['東薈城名店倉', 'mobility', 'hearing', 'visual', 'mobility (parking)']]\n"
     ]
    }
   ],
   "source": [
    "with open('Islands District.txt','r', encoding=\"utf-8\", errors='ignore') as file:\n",
    "    CentralWestern = file.read()\n",
    "\n",
    "CentralWestern = CentralWestern.split(\"\\n\\n\")\n",
    "CentralWestern = [lines.split('\\n') for lines in CentralWestern]\n",
    "CentralWestern = [sorted(set(a), key=a.index) for a in CentralWestern]\n",
    "print(CentralWestern)"
   ]
  },
  {
   "cell_type": "code",
   "execution_count": 6,
   "metadata": {},
   "outputs": [
    {
     "name": "stdout",
     "output_type": "stream",
     "text": [
      "[['Kowloon City District'], ['海逸酒店', 'mobility', 'visual', 'hearing', 'mobility (parking)'], ['九龍維景酒店', 'mobility', 'hearing'], ['九龍寨城公園', 'mobility'], ['啟德郵輪碼頭', 'visual', 'mobility (parking)', 'mobility'], ['九龍城廣場', 'mobility', 'hearing', 'visual', 'mobility (parking)'], ['雀鳥花園', 'mobility', 'mobility (parking)'], ['九龍城浸信會', 'mobility'], ['黃埔新天地', 'mobility', 'mobility (parking)'], ['高山劇場', 'mobility', 'visual', '']]\n"
     ]
    }
   ],
   "source": [
    "with open('Kowloon City District.txt','r', encoding=\"utf-8\", errors='ignore') as file:\n",
    "    CentralWestern = file.read()\n",
    "\n",
    "CentralWestern = CentralWestern.split(\"\\n\\n\")\n",
    "CentralWestern = [lines.split('\\n') for lines in CentralWestern]\n",
    "CentralWestern = [sorted(set(a), key=a.index) for a in CentralWestern]\n",
    "print(CentralWestern)"
   ]
  },
  {
   "cell_type": "code",
   "execution_count": 7,
   "metadata": {},
   "outputs": [
    {
     "name": "stdout",
     "output_type": "stream",
     "text": [
      "[['Kwai Tsing District'], ['新都會廣場', 'mobility', 'mobility (parking)'], ['葵青劇院'], ['青衣城', 'mobility', 'visual', 'mobility (parking)']]\n"
     ]
    }
   ],
   "source": [
    "with open('Kwai Tsing District.txt','r', encoding=\"utf-8\", errors='ignore') as file:\n",
    "    CentralWestern = file.read()\n",
    "\n",
    "CentralWestern = CentralWestern.split(\"\\n\\n\")\n",
    "CentralWestern = [lines.split('\\n') for lines in CentralWestern]\n",
    "CentralWestern = [sorted(set(a), key=a.index) for a in CentralWestern]\n",
    "print(CentralWestern)"
   ]
  },
  {
   "cell_type": "code",
   "execution_count": 8,
   "metadata": {},
   "outputs": [
    {
     "name": "stdout",
     "output_type": "stream",
     "text": [
      "[['Kwun Tong District'], ['APM', 'mobility', 'visual', 'mobility (parking)'], ['鯉魚門'], ['麗港城商場'], ['APM', 'mobility', 'hearing', 'visual'], ['九龍灣國際展貿中心', 'mobility', 'visual', 'hearing', 'mobility (parking)'], ['MegaBox', 'mobility', 'hearing'], ['德福廣場一期', 'mobility', 'mobility (parking)'], ['德福廣場二期', 'mobility', 'mobility (parking)']]\n"
     ]
    }
   ],
   "source": [
    "with open('Kwun Tong District.txt','r', encoding=\"utf-8\", errors='ignore') as file:\n",
    "    CentralWestern = file.read()\n",
    "\n",
    "CentralWestern = CentralWestern.split(\"\\n\\n\")\n",
    "CentralWestern = [lines.split('\\n') for lines in CentralWestern]\n",
    "CentralWestern = [sorted(set(a), key=a.index) for a in CentralWestern]\n",
    "print(CentralWestern)"
   ]
  },
  {
   "cell_type": "code",
   "execution_count": 9,
   "metadata": {},
   "outputs": [
    {
     "name": "stdout",
     "output_type": "stream",
     "text": [
      "[['North District']]\n"
     ]
    }
   ],
   "source": [
    "with open('North District.txt','r', encoding=\"utf-8\", errors='ignore') as file:\n",
    "    CentralWestern = file.read()\n",
    "\n",
    "CentralWestern = CentralWestern.split(\"\\n\\n\")\n",
    "CentralWestern = [lines.split('\\n') for lines in CentralWestern]\n",
    "CentralWestern = [sorted(set(a), key=a.index) for a in CentralWestern]\n",
    "print(CentralWestern)"
   ]
  },
  {
   "cell_type": "code",
   "execution_count": 10,
   "metadata": {},
   "outputs": [
    {
     "name": "stdout",
     "output_type": "stream",
     "text": [
      "[['Sai Kung District'], ['新都城II期', 'mobility', 'hearing', 'visual', 'mobility (parking)'], ['上窰民俗文物館', 'mobility'], ['西貢海濱', 'mobility'], ['東港城', 'mobility', 'hearing', 'mobility (parking)']]\n"
     ]
    }
   ],
   "source": [
    "with open('Sai Kung District.txt','r', encoding=\"utf-8\", errors='ignore') as file:\n",
    "    CentralWestern = file.read()\n",
    "\n",
    "CentralWestern = CentralWestern.split(\"\\n\\n\")\n",
    "CentralWestern = [lines.split('\\n') for lines in CentralWestern]\n",
    "CentralWestern = [sorted(set(a), key=a.index) for a in CentralWestern]\n",
    "print(CentralWestern)"
   ]
  },
  {
   "cell_type": "code",
   "execution_count": 11,
   "metadata": {},
   "outputs": [
    {
     "name": "stdout",
     "output_type": "stream",
     "text": [
      "[['Sha Tin District'], ['新城市廣場', 'mobility', 'hearing', 'visual', 'mobility (parking)'], ['沙田大會堂', 'mobility', 'visual', 'mobility (parking)'], ['新城市廣場', 'mobility', 'mobility (parking)'], ['帝都酒店', 'mobility', 'hearing', 'visual'], ['中國文化研究所文物館', 'mobility', 'hearing', 'visual'], ['香港文化博物館', 'mobility', 'hearing'], ['車公廟', 'mobility'], ['', ' 萬佛寺'], [''], [''], [' 香港沙田凱悅酒店', 'mobility'], [' 香港科技園 – 科學園', 'mobility', 'visual', 'hearing', 'mobility (parking)'], [' 新城市中央廣場', 'mobility', 'hearing', 'mobility (parking)']]\n"
     ]
    }
   ],
   "source": [
    "with open('Sha Tin District.txt','r', encoding=\"utf-8\", errors='ignore') as file:\n",
    "    CentralWestern = file.read()\n",
    "\n",
    "CentralWestern = CentralWestern.split(\"\\n\\n\")\n",
    "CentralWestern = [lines.split('\\n') for lines in CentralWestern]\n",
    "CentralWestern = [sorted(set(a), key=a.index) for a in CentralWestern]\n",
    "print(CentralWestern)"
   ]
  },
  {
   "cell_type": "code",
   "execution_count": 12,
   "metadata": {},
   "outputs": [
    {
     "name": "stdout",
     "output_type": "stream",
     "text": [
      "[['Sham Shui Po District'], ['西九龍中心', 'mobility', 'hearing', 'visual', 'locked facility'], ['又一城', 'mobility', 'hearing', 'mobility (parking)'], ['九龍麗東酒店', 'mobility', 'hearing', 'visual'], ['李鄭屋漢墓博物館', 'mobility'], ['西九龍中心', 'mobility', 'locked facility', 'hearing', 'visual', 'mobility (parking)'], ['又一城', 'mobility', 'hearing', 'mobility (parking)'], ['高登電腦中心', 'mobility'], ['黃金電腦商場'], ['新高登電腦商場', 'locked facility'], ['花墟', 'mobility (parking)'], ['鴨寮街跳蚤市場', 'mobility']]\n"
     ]
    }
   ],
   "source": [
    "with open('Sham Shui Po District.txt','r', encoding=\"utf-8\", errors='ignore') as file:\n",
    "    CentralWestern = file.read()\n",
    "\n",
    "CentralWestern = CentralWestern.split(\"\\n\\n\")\n",
    "CentralWestern = [lines.split('\\n') for lines in CentralWestern]\n",
    "CentralWestern = [sorted(set(a), key=a.index) for a in CentralWestern]\n",
    "print(CentralWestern)"
   ]
  },
  {
   "cell_type": "code",
   "execution_count": 13,
   "metadata": {},
   "outputs": [
    {
     "name": "stdout",
     "output_type": "stream",
     "text": [
      "[['Southern District'], ['(赤柱)天后廟'], ['海洋公園', 'mobility', 'hearing', 'visual', 'mobility (parking)'], ['美利樓', 'mobility', 'mobility (parking)'], ['赤柱市集', 'mobility', 'mobility (parking)'], ['赤柱廣場', 'mobility', 'hearing', 'visual', 'mobility (parking)'], ['數碼港艾美酒店', 'mobility', 'hearing', 'visual', 'mobility (parking)'], ['香港懲教博物館', 'mobility', 'hearing', 'visual']]\n"
     ]
    }
   ],
   "source": [
    "with open('Southern District.txt','r', encoding=\"utf-8\", errors='ignore') as file:\n",
    "    CentralWestern = file.read()\n",
    "\n",
    "CentralWestern = CentralWestern.split(\"\\n\\n\")\n",
    "CentralWestern = [lines.split('\\n') for lines in CentralWestern]\n",
    "CentralWestern = [sorted(set(a), key=a.index) for a in CentralWestern]\n",
    "print(CentralWestern)"
   ]
  },
  {
   "cell_type": "code",
   "execution_count": 14,
   "metadata": {},
   "outputs": [
    {
     "name": "stdout",
     "output_type": "stream",
     "text": [
      "[['Tai Po District'], ['香港鐵路博物館', 'mobility', 'visual'], ['林村許願樹', 'mobility'], ['大埔超級城'], ['大埔文娛中心']]\n"
     ]
    }
   ],
   "source": [
    "with open('Tai Po District.txt','r', encoding=\"utf-8\", errors='ignore') as file:\n",
    "    CentralWestern = file.read()\n",
    "\n",
    "CentralWestern = CentralWestern.split(\"\\n\\n\")\n",
    "CentralWestern = [lines.split('\\n') for lines in CentralWestern]\n",
    "CentralWestern = [sorted(set(a), key=a.index) for a in CentralWestern]\n",
    "print(CentralWestern)"
   ]
  },
  {
   "cell_type": "code",
   "execution_count": 15,
   "metadata": {},
   "outputs": [
    {
     "name": "stdout",
     "output_type": "stream",
     "text": [
      "[['Tsuen Wan District'], ['遠東帝豪酒店', 'mobility', 'hearing', 'visual'], ['愉景新城', 'mobility', 'hearing', 'mobility (parking)'], ['悅來酒店', 'mobility', 'hearing'], ['帝景酒店', 'mobility'], ['西方寺', 'mobility'], ['圓玄學院', 'mobility'], ['三棟屋博物館', 'mobility'], ['如心廣場'], ['荃灣大會堂'], ['挪亞方舟', 'mobility'], ['馬灣公園', 'mobility'], ['馬灣公園'], ['挪亞方舟'], ['荃新天地', 'mobility', 'hearing', 'visual', 'mobility (parking)'], ['愉景新城', 'mobility', 'hearing', 'mobility (parking)']]\n"
     ]
    }
   ],
   "source": [
    "with open('Tsuen Wan District.txt','r', encoding=\"utf-8\", errors='ignore') as file:\n",
    "    CentralWestern = file.read()\n",
    "\n",
    "CentralWestern = CentralWestern.split(\"\\n\\n\")\n",
    "CentralWestern = [lines.split('\\n') for lines in CentralWestern]\n",
    "CentralWestern = [sorted(set(a), key=a.index) for a in CentralWestern]\n",
    "print(CentralWestern)"
   ]
  },
  {
   "cell_type": "code",
   "execution_count": 16,
   "metadata": {},
   "outputs": [
    {
     "name": "stdout",
     "output_type": "stream",
     "text": [
      "[['Tuen Mun District'], ['屯門市廣場', 'mobility', 'hearing', 'visual', 'mobility (parking)'], ['青松觀', 'mobility'], ['妙法寺'], ['屯門大會堂'], ['黃金海岸購物商場', 'mobility', 'hearing', 'mobility (parking)']]\n"
     ]
    }
   ],
   "source": [
    "with open('Tuen Mun District.txt','r', encoding=\"utf-8\", errors='ignore') as file:\n",
    "    CentralWestern = file.read()\n",
    "\n",
    "CentralWestern = CentralWestern.split(\"\\n\\n\")\n",
    "CentralWestern = [lines.split('\\n') for lines in CentralWestern]\n",
    "CentralWestern = [sorted(set(a), key=a.index) for a in CentralWestern]\n",
    "print(CentralWestern)"
   ]
  },
  {
   "cell_type": "code",
   "execution_count": 17,
   "metadata": {},
   "outputs": [
    {
     "name": "stdout",
     "output_type": "stream",
     "text": [
      "[['Wan Chai District'], ['時代廣場', 'mobility'], ['香港賽馬會博物館', 'mobility', 'hearing'], ['時代廣場', 'mobility', 'hearing', 'mobility (parking)'], ['渣甸坊'], ['希慎廣場'], ['麗悅酒店'], ['麗都酒店'], ['衛蘭軒'], ['香港Lanson Place Hotel'], ['金紫荊廣場', 'mobility'], ['銅鑼灣廣場一期'], ['銅鑼灣廣場二期', 'mobility (parking)', 'mobility', 'hearing'], ['銅鑼灣地帶', 'mobility', 'hearing', 'visual', 'locked facility'], ['金百利', 'mobility'], ['東角', 'mobility', 'visual', 'locked facility'], ['利園', 'mobility'], ['利舞臺廣場', 'mobility', 'hearing'], ['世紀香港酒店', 'mobility', 'hearing'], ['利景酒店', 'mobility'], ['伊利沙伯體育館', 'mobility', 'hearing', 'visual'], ['香港會議展覽中心', 'mobility', 'hearing', 'visual'], ['皇室堡', 'mobility'], ['香港大球場', 'mobility', 'visual'], ['香港演藝學院', 'mobility', 'visual', 'mobility (parking)'], ['世貿中心', 'mobility', 'hearing', 'visual'], ['英皇駿景酒店', 'mobility', 'hearing', 'visual'], ['循道衛理聯合教會香港堂', 'mobility'], ['298電腦特區', 'mobility'], ['玩具街', 'mobility', 'mobility (parking)'], ['皇室堡電腦城', 'mobility', 'hearing'], ['港島皇悅酒店', 'mobility'], ['灣仔電腦城', 'mobility', 'locked facility'], ['香港怡東酒店', 'mobility', 'hearing'], ['銅鑼灣快捷假日酒店', 'mobility', 'hearing', 'visual', 'locked facility'], ['君悅酒店', 'mobility', 'hearing', 'visual'], ['灣景國際賓館', 'mobility', 'hearing'], ['六國酒店', 'mobility', 'hearing', 'visual', 'mobility (parking)'], ['富豪香港酒店', 'mobility', 'hearing', 'visual'], ['萬麗海景酒店', 'mobility', 'hearing', 'visual'], ['南洋酒店', 'mobility', 'hearing', 'visual'], ['衛蘭軒', 'mobility'], ['華美粵海酒店', 'mobility', 'hearing']]\n"
     ]
    }
   ],
   "source": [
    "with open('Wan Chai District.txt','r', encoding=\"utf-8\", errors='ignore') as file:\n",
    "    CentralWestern = file.read()\n",
    "\n",
    "CentralWestern = CentralWestern.split(\"\\n\\n\")\n",
    "CentralWestern = [lines.split('\\n') for lines in CentralWestern]\n",
    "CentralWestern = [sorted(set(a), key=a.index) for a in CentralWestern]\n",
    "print(CentralWestern)"
   ]
  },
  {
   "cell_type": "code",
   "execution_count": 18,
   "metadata": {},
   "outputs": [
    {
     "name": "stdout",
     "output_type": "stream",
     "text": [
      "[['Wong Tai Sin District'], ['荷里活廣場', 'mobility', 'hearing', 'visual', 'mobility (parking)'], ['志蓮淨苑', 'mobility'], ['南蓮園池', 'mobility', 'mobility (parking)'], ['嗇色園黃大仙祠', 'mobility', 'locked facility'], ['牛池灣文娛中心'], ['荷里活廣場', 'mobility'], ['黃大仙中心', 'mobility', 'hearing', 'visual', 'mobility (parking)']]\n"
     ]
    }
   ],
   "source": [
    "with open('Wong Tai Sin District.txt','r', encoding=\"utf-8\", errors='ignore') as file:\n",
    "    CentralWestern = file.read()\n",
    "\n",
    "CentralWestern = CentralWestern.split(\"\\n\\n\")\n",
    "CentralWestern = [lines.split('\\n') for lines in CentralWestern]\n",
    "CentralWestern = [sorted(set(a), key=a.index) for a in CentralWestern]\n",
    "print(CentralWestern)"
   ]
  },
  {
   "cell_type": "code",
   "execution_count": 19,
   "metadata": {},
   "outputs": [
    {
     "name": "stdout",
     "output_type": "stream",
     "text": [
      "[['Yau Tsim Mong District'], ['粵海酒店', 'mobility'], ['都會海逸酒店', 'mobility', 'visual'], ['香港日航酒店', 'mobility', 'hearing'], ['帝國酒店', 'mobility', 'hearing', 'visual'], ['海景嘉福酒店', 'mobility', 'hearing'], ['香港洲際酒店', 'mobility', 'hearing', 'visual'], ['君怡酒店', 'mobility', 'hearing', 'mobility (parking)'], ['九龍酒店', 'mobility'], ['九龍香格里拉酒店', 'mobility', 'visual'], ['旺角朗豪酒店', 'mobility', 'hearing', 'visual'], ['新世紀廣場', 'mobility'], ['海港城', 'mobility', 'hearing', 'mobility (parking)'], ['馬哥孛羅香港酒店', 'mobility', 'hearing'], ['都會商場', 'mobility', 'hearing', 'visual'], ['馬哥孛羅港威酒店', 'mobility', 'visual'], ['奧海城', 'mobility', 'hearing', 'visual'], ['馬哥孛羅太子酒店', 'mobility', 'hearing', 'visual'], ['新港中心', 'mobility', 'visual'], ['美麗華酒店', 'mobility', 'hearing', 'visual'], ['彌敦酒店', 'mobility', 'hearing', 'visual'], ['九龍諾富特酒店', 'mobility', 'hearing', 'visual'], ['百樂酒店', 'mobility', 'hearing'], ['半島酒店', 'mobility'], ['香港文物探知館', 'mobility', 'hearing', 'visual'], ['恆豐酒店', 'mobility', 'hearing'], ['香港藝術館', 'mobility'], ['九龍華美達酒店', 'mobility', 'hearing'], ['富豪九龍酒店', 'mobility'], ['香港歷史博物館', 'mobility', 'hearing', 'visual'], ['新樂酒店', 'mobility', 'hearing', 'visual'], ['香港科學館', 'mobility'], ['香港太空館', 'mobility', 'hearing', 'visual'], ['清真寺', 'mobility'], ['天際100香港觀景台'], ['天際100香港觀景台'], ['sky100'], ['sky1000'], ['K11'], ['先達廣場'], ['國際廣場'], ['油麻地戲院'], ['天際100', 'mobility'], ['聖安德烈堂'], ['香港喜来登酒店'], ['香港 W 酒店'], ['中港城', 'mobility'], ['圓方', 'mobility'], ['帝國中心', 'mobility'], ['港威商場 - 海港城', 'mobility'], ['新世紀廣場', 'mobility'], ['海港城', 'mobility', 'hearing', 'mobility (parking)'], ['星光大道', 'mobility', 'mobility (parking)'], ['鐘樓', 'mobility'], ['1881 (前香港水警總部)', 'mobility'], ['旺角電腦中心', 'mobility', 'visual'], ['星光電腦城', 'mobility'], ['廟街夜市', 'mobility', 'mobility (parking)'], ['玉器市場', 'mobility', 'mobility (parking)'], ['女人街（通菜街）', 'mobility', 'mobility (parking)'], ['朗豪坊', 'mobility', 'visual'], ['花園街', 'mobility (parking)'], ['都會商場', 'mobility', 'visual'], ['通菜街(金魚街)', 'mobility (parking)'], ['美麗華商場', 'mobility', 'hearing'], ['新世界中心', 'mobility'], ['海洋中心 - 海港城', 'mobility'], ['海運大廈- 海港城', 'mobility'], ['奧海城', 'mobility', 'visual', 'hearing', 'mobility (parking)'], ['九龍玫瑰堂', 'mobility', 'locked facility'], ['栢麗購物大道', 'mobility'], ['始創中心', 'mobility', 'hearing', 'mobility (parking)'], ['新港中心', 'mobility'], ['新太陽廣場', 'mobility'], ['循道衛理聯合教會九龍堂', 'mobility'], ['尖沙咀中心', 'mobility'], ['城景國際', 'mobility', 'hearing', 'visual', 'mobility (parking)'], ['香港文化中心', 'mobility', 'visual', 'hearing'], ['帝豪九龍酒店', 'mobility', 'hearing', 'visual'], ['帝豪海景酒店', 'mobility'], ['逸東酒店', 'mobility', 'hearing'], ['香港體育館', 'mobility'], ['九龍皇悅酒店', 'mobility', 'hearing', 'visual', 'locked facility'], ['香港金域假日酒店', 'mobility', 'hearing', 'visual']]\n"
     ]
    }
   ],
   "source": [
    "with open('Yau Tsim Mong District.txt','r', encoding=\"utf-8\", errors='ignore') as file:\n",
    "    CentralWestern = file.read()\n",
    "\n",
    "CentralWestern = CentralWestern.split(\"\\n\\n\")\n",
    "CentralWestern = [lines.split('\\n') for lines in CentralWestern]\n",
    "CentralWestern = [sorted(set(a), key=a.index) for a in CentralWestern]\n",
    "print(CentralWestern)"
   ]
  },
  {
   "cell_type": "code",
   "execution_count": 20,
   "metadata": {},
   "outputs": [
    {
     "name": "stdout",
     "output_type": "stream",
     "text": [
      "[['Yuen Long District'], ['嘉湖海逸酒店', 'mobility', 'hearing'], ['屏山鄧族文物館', 'mobility'], ['元朗劇院'], ['香港濕地公園', 'mobility', 'visual', 'hearing', 'mobility (parking)']]\n"
     ]
    }
   ],
   "source": [
    "with open('Yuen Long District.txt','r', encoding=\"utf-8\", errors='ignore') as file:\n",
    "    CentralWestern = file.read()\n",
    "\n",
    "CentralWestern = CentralWestern.split(\"\\n\\n\")\n",
    "CentralWestern = [lines.split('\\n') for lines in CentralWestern]\n",
    "CentralWestern = [sorted(set(a), key=a.index) for a in CentralWestern]\n",
    "print(CentralWestern)"
   ]
  },
  {
   "cell_type": "code",
   "execution_count": null,
   "metadata": {},
   "outputs": [],
   "source": []
  },
  {
   "cell_type": "code",
   "execution_count": null,
   "metadata": {},
   "outputs": [],
   "source": []
  }
 ],
 "metadata": {
  "kernelspec": {
   "display_name": "Python 3",
   "language": "python",
   "name": "python3"
  },
  "language_info": {
   "codemirror_mode": {
    "name": "ipython",
    "version": 3
   },
   "file_extension": ".py",
   "mimetype": "text/x-python",
   "name": "python",
   "nbconvert_exporter": "python",
   "pygments_lexer": "ipython3",
   "version": "3.8.3"
  }
 },
 "nbformat": 4,
 "nbformat_minor": 4
}
